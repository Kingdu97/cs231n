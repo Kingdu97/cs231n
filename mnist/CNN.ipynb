{
 "cells": [
  {
   "cell_type": "markdown",
   "metadata": {},
   "source": [
    "![](2022-11-10-16-34-05.png)"
   ]
  },
  {
   "cell_type": "markdown",
   "metadata": {},
   "source": [
    "딥러닝에서의 convolution filter는 자동적으로 연산이 되어 만들어지는것"
   ]
  },
  {
   "cell_type": "markdown",
   "metadata": {},
   "source": [
    "![](2022-11-10-16-40-34.png)"
   ]
  },
  {
   "cell_type": "markdown",
   "metadata": {},
   "source": [
    "![](2022-11-10-16-42-02.png)"
   ]
  },
  {
   "cell_type": "markdown",
   "metadata": {},
   "source": [
    "mnist 같은 경우 기본적으로 4차원"
   ]
  },
  {
   "cell_type": "markdown",
   "metadata": {},
   "source": [
    "FC 같은경우 feature의 위치에 구애를 크게 받는데,  \n",
    "CNN은 feature의 위치에 구애를 받지 않는다.---> 이미지에 특화되어있음  \n",
    "        그리고 FC layer에 비해 더 적은 weight를 가진다.\n"
   ]
  },
  {
   "cell_type": "markdown",
   "metadata": {},
   "source": [
    "### CNN은 computer vision뿐만 아니라 NLP, Time Series, speech recognition 에 주로 쓰인다"
   ]
  },
  {
   "cell_type": "markdown",
   "metadata": {},
   "source": [
    "NLP에서 \n",
    "- Text classification : 감성분석, -> convolution filter를 통해 detact 하겠다는것.논문 [Kim, 2014]\n",
    "- Machine Translation : 중급에서 "
   ]
  },
  {
   "cell_type": "markdown",
   "metadata": {},
   "source": [
    "---"
   ]
  },
  {
   "cell_type": "markdown",
   "metadata": {},
   "source": [
    "## Max-pooling : weight param은 없음 그냥 연산임 \n",
    "- 초기에 많이 활용됨"
   ]
  },
  {
   "cell_type": "markdown",
   "metadata": {},
   "source": [
    "![](2022-11-10-17-01-19.png)"
   ]
  },
  {
   "cell_type": "markdown",
   "metadata": {},
   "source": [
    "cf. 3*3 + 1padding 은 입출력 보존"
   ]
  },
  {
   "cell_type": "markdown",
   "metadata": {},
   "source": [
    "### stride는 (n칸씩) 성큼성큼 건너가는것 "
   ]
  },
  {
   "cell_type": "markdown",
   "metadata": {},
   "source": [
    "- 같은 conv layer 내에 간단히 동작\n",
    "- 근래에 좀 더 애용되는 추세"
   ]
  },
  {
   "cell_type": "markdown",
   "metadata": {},
   "source": [
    "![](2022-11-10-17-24-27.png)"
   ]
  },
  {
   "cell_type": "markdown",
   "metadata": {},
   "source": [
    "위처럼 많이 구상함.   \n",
    "CNN block 경우엔 2개의 cnn, convolution은 3*3 layer + padding 이 존재  "
   ]
  },
  {
   "cell_type": "markdown",
   "metadata": {},
   "source": [
    "예전에 mnist classification을 FC layer로 실현했었는데, 그때는 train.py와 predict.py로\n"
   ]
  },
  {
   "cell_type": "markdown",
   "metadata": {},
   "source": [
    "문제는 그대로 mnist이미지를 받아서 각 class별 확률값을 뱉어주면 되는것"
   ]
  },
  {
   "cell_type": "markdown",
   "metadata": {},
   "source": [
    "![](2022-11-10-17-52-28.png)"
   ]
  },
  {
   "cell_type": "markdown",
   "metadata": {},
   "source": []
  }
 ],
 "metadata": {
  "kernelspec": {
   "display_name": "Python 3.7.13 ('kingdu')",
   "language": "python",
   "name": "python3"
  },
  "language_info": {
   "name": "python",
   "version": "3.7.13"
  },
  "orig_nbformat": 4,
  "vscode": {
   "interpreter": {
    "hash": "71c52081ca622047855d893d05712e229a4a6e025d7207e05e6181ed11ca910e"
   }
  }
 },
 "nbformat": 4,
 "nbformat_minor": 2
}
